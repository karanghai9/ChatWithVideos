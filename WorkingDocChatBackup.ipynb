{
 "cells": [
  {
   "cell_type": "code",
   "execution_count": 1,
   "metadata": {},
   "outputs": [
    {
     "name": "stderr",
     "output_type": "stream",
     "text": [
      "/Users/karanghai/Library/Python/3.9/lib/python/site-packages/urllib3/__init__.py:35: NotOpenSSLWarning: urllib3 v2 only supports OpenSSL 1.1.1+, currently the 'ssl' module is compiled with 'LibreSSL 2.8.3'. See: https://github.com/urllib3/urllib3/issues/3020\n",
      "  warnings.warn(\n"
     ]
    }
   ],
   "source": [
    "from langchain.embeddings import HuggingFaceInstructEmbeddings\n",
    "from langchain.chains import RetrievalQA\n",
    "from langchain_community.chat_models import ChatOllama\n",
    "from langchain import PromptTemplate\n",
    "from langchain_community.vectorstores import FAISS\n",
    "import json"
   ]
  },
  {
   "cell_type": "code",
   "execution_count": 2,
   "metadata": {},
   "outputs": [
    {
     "name": "stderr",
     "output_type": "stream",
     "text": [
      "/Users/karanghai/Library/Python/3.9/lib/python/site-packages/InstructorEmbedding/instructor.py:7: TqdmWarning: IProgress not found. Please update jupyter and ipywidgets. See https://ipywidgets.readthedocs.io/en/stable/user_install.html\n",
      "  from tqdm.autonotebook import trange\n"
     ]
    },
    {
     "name": "stdout",
     "output_type": "stream",
     "text": [
      "load INSTRUCTOR_Transformer\n",
      "max_seq_length  512\n"
     ]
    }
   ],
   "source": [
    "embeddings = HuggingFaceInstructEmbeddings(\n",
    "    model_name=\"hkunlp/instructor-large\", model_kwargs={\"device\": \"cpu\"}\n",
    ")"
   ]
  },
  {
   "cell_type": "code",
   "execution_count": 3,
   "metadata": {},
   "outputs": [
    {
     "data": {
      "text/plain": [
       "203"
      ]
     },
     "execution_count": 3,
     "metadata": {},
     "output_type": "execute_result"
    }
   ],
   "source": [
    "with open('chunks.json', 'r') as file:\n",
    "    chunks = json.load(file)\n",
    "len(chunks)"
   ]
  },
  {
   "cell_type": "code",
   "execution_count": 91,
   "metadata": {},
   "outputs": [
    {
     "data": {
      "text/plain": [
       "5684"
      ]
     },
     "execution_count": 91,
     "metadata": {},
     "output_type": "execute_result"
    }
   ],
   "source": [
    "with open('segments.json', 'r') as file:\n",
    "    filtered_segments = json.load(file)\n",
    "len(filtered_segments)"
   ]
  },
  {
   "cell_type": "code",
   "execution_count": 5,
   "metadata": {},
   "outputs": [],
   "source": [
    "db2 = FAISS.from_texts(chunks, embeddings)"
   ]
  },
  {
   "cell_type": "code",
   "execution_count": 6,
   "metadata": {},
   "outputs": [],
   "source": [
    "DEFAULT_SYSTEM_PROMPT = \"\"\"\n",
    "You are Karan, a student at TH Bingen University. Act as Karan and reply all questions on his behalf. Use the following pieces of context to answer the question at the end. If you don't know the answer, just say that you don't know, don't try to make up an answer. \n",
    "\"\"\".strip()\n",
    "\n",
    "\n",
    "def generate_prompt(prompt: str, system_prompt: str = DEFAULT_SYSTEM_PROMPT) -> str:\n",
    "    return f\"\"\"\n",
    "      <|system|>\n",
    "\n",
    "      {system_prompt}\n",
    "\n",
    "      <|user|>\n",
    "\n",
    "      {prompt}\n",
    "\n",
    "      <|assistant|>\n",
    "\"\"\".strip()"
   ]
  },
  {
   "cell_type": "code",
   "execution_count": 7,
   "metadata": {},
   "outputs": [],
   "source": [
    "# DEFAULT_SYSTEM_PROMPT = \"\"\"\n",
    "# You are Karan, a student at TH Bingen University. Act as Karan and reply all questions on his basis. Use the following pieces of context to answer the question at the end. If you don't know the answer, just say that you don't know, don't try to make up an answer. \n",
    "# \"\"\".strip()\n",
    "\n",
    "\n",
    "# def generate_prompt(prompt: str, system_prompt: str = DEFAULT_SYSTEM_PROMPT) -> str:\n",
    "#     return f\"\"\"\n",
    "# [INST] <>\n",
    "# {system_prompt}\n",
    "# <>\n",
    "\n",
    "# {prompt} [/INST]\n",
    "# \"\"\".strip()"
   ]
  },
  {
   "cell_type": "code",
   "execution_count": 8,
   "metadata": {},
   "outputs": [],
   "source": [
    "template = generate_prompt(\n",
    "    \"\"\"\n",
    "{context}\n",
    "\n",
    "Question: {question}\n",
    "\"\"\"\n",
    ")"
   ]
  },
  {
   "cell_type": "code",
   "execution_count": 9,
   "metadata": {},
   "outputs": [],
   "source": [
    "prompt = PromptTemplate(template=template, input_variables=[\"context\", \"question\"])"
   ]
  },
  {
   "cell_type": "code",
   "execution_count": 183,
   "metadata": {},
   "outputs": [],
   "source": [
    "qa_chain = RetrievalQA.from_chain_type(\n",
    "    llm=ChatOllama(model=\"llama2:latest\"),\n",
    "    chain_type=\"stuff\",\n",
    "    retriever=db2.as_retriever(search_kwargs={\"k\": 2}),\n",
    "    return_source_documents=True,\n",
    "    chain_type_kwargs={\"prompt\": prompt},\n",
    ")"
   ]
  },
  {
   "cell_type": "code",
   "execution_count": 120,
   "metadata": {},
   "outputs": [],
   "source": [
    "def getStartTimeFromSegments(sourceString):\n",
    "    json_data = filtered_segments\n",
    "\n",
    "    words = sourceString.split()\n",
    "\n",
    "    # Start with 3 words and increase by 1 if no match is found\n",
    "    num_words = 1\n",
    "    found_objects = []\n",
    "\n",
    "    max_num_words = len(words)  # Maximum number of words in the string\n",
    "\n",
    "    while num_words <= max_num_words:\n",
    "        # Take the first num_words from the words list\n",
    "        search_phrase = ' '.join(words[:num_words])\n",
    "\n",
    "        # Search for matches in the JSON data\n",
    "        found_objects = [obj for obj in json_data if search_phrase in obj['text']]\n",
    "\n",
    "        # If no matches found or more than 1 found, and num_words doesn't exceed the max number of words, increase the number of words\n",
    "        if not found_objects or len(found_objects) > 1:\n",
    "            num_words += 1\n",
    "        else:\n",
    "            # Return the first found object and exit the loop\n",
    "            print(\"Found object\")\n",
    "            return found_objects[0]\n",
    "\n",
    "    # If num_words exceeds the total number of words in the string, print the first object and break\n",
    "    if num_words > max_num_words:\n",
    "        print(\"Exceeded total number of words. Returning the first object:\")\n",
    "        return json_data[0]\n"
   ]
  },
  {
   "cell_type": "code",
   "execution_count": 182,
   "metadata": {},
   "outputs": [
    {
     "name": "stdout",
     "output_type": "stream",
     "text": [
      " * Serving Flask app '__main__'\n",
      " * Debug mode: off\n"
     ]
    },
    {
     "name": "stderr",
     "output_type": "stream",
     "text": [
      "\u001b[31m\u001b[1mWARNING: This is a development server. Do not use it in a production deployment. Use a production WSGI server instead.\u001b[0m\n",
      " * Running on all addresses (0.0.0.0)\n",
      " * Running on http://127.0.0.1:81\n",
      " * Running on http://192.168.0.101:81\n",
      "\u001b[33mPress CTRL+C to quit\u001b[0m\n",
      "127.0.0.1 - - [21/Mar/2024 14:48:07] \"GET / HTTP/1.1\" 200 -\n",
      "127.0.0.1 - - [21/Mar/2024 14:48:34] \"POST / HTTP/1.1\" 200 -\n",
      "127.0.0.1 - - [21/Mar/2024 14:48:34] \"\u001b[35m\u001b[1mGET /Kint2 HTTP/1.1\u001b[0m\" 206 -\n",
      "127.0.0.1 - - [21/Mar/2024 14:48:34] \"\u001b[35m\u001b[1mGET /Kint2 HTTP/1.1\u001b[0m\" 206 -\n"
     ]
    },
    {
     "name": "stdout",
     "output_type": "stream",
     "text": [
      "Found object\n"
     ]
    },
    {
     "name": "stderr",
     "output_type": "stream",
     "text": [
      "127.0.0.1 - - [21/Mar/2024 14:49:49] \"POST / HTTP/1.1\" 200 -\n",
      "127.0.0.1 - - [21/Mar/2024 14:49:49] \"\u001b[35m\u001b[1mGET /Kint2 HTTP/1.1\u001b[0m\" 206 -\n",
      "127.0.0.1 - - [21/Mar/2024 14:49:49] \"\u001b[35m\u001b[1mGET /Kint2 HTTP/1.1\u001b[0m\" 206 -\n",
      "127.0.0.1 - - [21/Mar/2024 14:49:49] \"\u001b[35m\u001b[1mGET /Kint2 HTTP/1.1\u001b[0m\" 206 -\n"
     ]
    },
    {
     "name": "stdout",
     "output_type": "stream",
     "text": [
      "Found object\n"
     ]
    },
    {
     "name": "stderr",
     "output_type": "stream",
     "text": [
      "127.0.0.1 - - [21/Mar/2024 14:50:12] \"POST / HTTP/1.1\" 200 -\n"
     ]
    },
    {
     "name": "stdout",
     "output_type": "stream",
     "text": [
      "Exceeded total number of words. Returning the first object:\n"
     ]
    }
   ],
   "source": [
    "#WITHOUT BUFFER MEMORY\n",
    "from flask import Flask, request, render_template_string, send_file\n",
    "\n",
    "app = Flask(__name__)\n",
    "\n",
    "html_template = \"\"\"\n",
    "<!DOCTYPE html>\n",
    "<html lang=\"en\">\n",
    "<head>\n",
    "    <meta charset=\"UTF-8\">\n",
    "    <meta name=\"viewport\" content=\"width=device-width, initial-scale=1.0\">\n",
    "    <title>Chatbot</title>\n",
    "    <style>\n",
    "        body {\n",
    "            font-family: Arial, sans-serif;\n",
    "            margin: 0;\n",
    "            padding: 0;\n",
    "            background-color: #f0f0f0;\n",
    "        }\n",
    "        .chat-container {\n",
    "            max-width: 800px;\n",
    "            margin: 0 auto;\n",
    "            padding: 20px;\n",
    "            background-color: #ffffff;\n",
    "            border-radius: 10px 10px 0px 0px;\n",
    "            box-shadow: 0 0 10px rgba(0, 0, 0, 0.1);\n",
    "        }\n",
    "        .chat-form{\n",
    "            max-width: 800px;\n",
    "            margin: 0 auto;\n",
    "            padding: 20px;\n",
    "            background-color: #ffffff;\n",
    "            border-radius: 0px 0px 10px 10px;\n",
    "            box-shadow: 0 0 10px rgba(0, 0, 0, 0.1);\n",
    "        }\n",
    "        .chat-message {\n",
    "            background-color: #f9f9f9;\n",
    "            border-radius: 10px;\n",
    "            padding: 10px;\n",
    "            margin: 10px 0;\n",
    "        }\n",
    "        .user-message {\n",
    "            text-align: right;\n",
    "        }\n",
    "        input[type=\"text\"] {\n",
    "            width: calc(100% - 100px); /* Adjust width of input */\n",
    "            padding: 8px;\n",
    "            border-radius: 5px;\n",
    "            border: 1px solid #ccc;\n",
    "            margin-right: 10px;\n",
    "        }\n",
    "        .additional-content {\n",
    "            display: none;\n",
    "        }\n",
    "        .show-button{\n",
    "            background-color: #555555;\n",
    "            border: none;\n",
    "            color: white;\n",
    "            padding: 8px 10px;\n",
    "            text-align: center;\n",
    "            text-decoration: none;\n",
    "            display: inline-block;\n",
    "            font-size: 16px;\n",
    "            margin: 4px 2px;\n",
    "            cursor: pointer;\n",
    "            border-radius: 5px;\n",
    "        }\n",
    "        #input_submit{\n",
    "            background-color: #555555;\n",
    "            border: none;\n",
    "            color: white;\n",
    "            padding: 8px 10px;\n",
    "            text-align: center;\n",
    "            text-decoration: none;\n",
    "            display: inline-block;\n",
    "            font-size: 16px;\n",
    "            margin: 4px 2px;\n",
    "            cursor: pointer;\n",
    "            border-radius: 5px;\n",
    "        }\n",
    "    </style>\n",
    "</head>\n",
    "<body>\n",
    "    <div class=\"chat-container\" id=\"chat-container\">\n",
    "    <h3>Welcome to the Artificial Intelligence QnA service.  You may ask me anything 🙃</h3>\n",
    "        {% for message in chat_history %}\n",
    "            <div class=\"chat-message {% if message['sender'] == 'user' %}user-message{% endif %}\">\n",
    "                {{ message['content'] }}\n",
    "                {% if message['sender'] == 'bot' %}\n",
    "                    <br><br>\n",
    "                    <button class=\"show-button\">Show source</button>\n",
    "                    <div class=\"additional-content\">\n",
    "                        {{ message['source'] }}\n",
    "                        <br><br>\n",
    "                        {{ message['seekTime'] }}\n",
    "                        <video id=\"myVideo\" width=\"780\" height=\"640\" controls>\n",
    "                            <source src=\"http://127.0.0.1:81/Kint2\" type=\"video/mp4\">\n",
    "                            Your browser does not support the video tag.\n",
    "                        </video>\n",
    "                    </div>\n",
    "                    <br><br>\n",
    "                {% endif %}\n",
    "            </div>\n",
    "        {% endfor %}\n",
    "    </div>\n",
    "    <div class=\"chat-form\">\n",
    "    <form action=\"/\" method=\"POST\" id=\"chat-form\">\n",
    "        <input type=\"text\" name=\"input_text\" id=\"input_text\" placeholder=\"Message Chatbot...\">\n",
    "        <input type=\"submit\" id=\"input_submit\" value=\"Send\">\n",
    "    </form>\n",
    "    </div>\n",
    "    <script>\n",
    "        document.getElementById('chat-form').addEventListener('submit', function(event) {\n",
    "            event.preventDefault(); // Prevent default form submission\n",
    "            var inputText = document.getElementById('input_text').value;\n",
    "            if (inputText.trim() !== '') {\n",
    "                var inputBox = document.getElementById('input_text');\n",
    "                var chatContainer = document.getElementById('chat-container');\n",
    "                var userMessage = document.createElement('div');\n",
    "                userMessage.className = 'chat-message user-message';\n",
    "                userMessage.textContent = inputText;\n",
    "                chatContainer.appendChild(userMessage);\n",
    "                document.getElementById('chat-form').submit(); // Submit form\n",
    "            }\n",
    "        });\n",
    "\n",
    "        //show/hide the source button\n",
    "        document.querySelectorAll('.show-button').forEach(button => {\n",
    "            button.addEventListener('click', function() {\n",
    "                const additionalContent = this.nextElementSibling;\n",
    "                additionalContent.style.display = additionalContent.style.display === 'block' ? 'none' : 'block';\n",
    "                this.textContent = additionalContent.style.display === 'block' ? 'Hide Source' : 'Show source';\n",
    "            });\n",
    "        });\n",
    "\n",
    "        //to seek the video\n",
    "        document.addEventListener('DOMContentLoaded', function () {\n",
    "        var video = document.getElementById('myVideo');\n",
    "        var chatHistory = {{ chat_history|tojson }};\n",
    "        console.log('chatHistory', chatHistory)\n",
    "        startTime = chatHistory[chatHistory.length - 1]['seekTime']['start'];\n",
    "        console.log('startTime', startTime)\n",
    "\n",
    "        // When the video metadata has loaded, set the start time\n",
    "        video.addEventListener('loadedmetadata', function () {\n",
    "            video.currentTime = startTime;\n",
    "        });\n",
    "    });\n",
    "    </script>\n",
    "</body>\n",
    "</html>\n",
    "\"\"\"\n",
    "\n",
    "chat_history = []\n",
    "\n",
    "@app.route('/Kint2')\n",
    "def video():\n",
    "    video_path = 'Kint2.mp4'\n",
    "    return send_file(video_path, mimetype='video/mp4')\n",
    "\n",
    "@app.route('/', methods=['GET', 'POST'])\n",
    "def index():\n",
    "    global chat_history\n",
    "\n",
    "    if request.method == 'POST':\n",
    "        input_text = request.form['input_text']\n",
    "        inputAfterSimilaritySearch = db2.similarity_search(query=input_text, k=2)\n",
    "        output_text = qa_chain({\"input_documents\": inputAfterSimilaritySearch[0].page_content, \"query\": input_text})\n",
    "        # output_text = qa_chain(input_text)\n",
    "        chat_history.append({'sender': 'user', 'content': input_text})\n",
    "\n",
    "        # Add logic here to generate response based on input_text\n",
    "        seekTime = getStartTimeFromSegments(inputAfterSimilaritySearch[0].page_content)\n",
    "        response_text = output_text['result']\n",
    "        chat_history.append({'sender': 'bot', 'content': response_text, 'source': inputAfterSimilaritySearch[0].page_content, 'seekTime': seekTime})\n",
    "\n",
    "    return render_template_string(html_template, chat_history=chat_history)\n",
    "\n",
    "if __name__ == '__main__':\n",
    "    app.run(host=\"0.0.0.0\", port=81)"
   ]
  },
  {
   "cell_type": "code",
   "execution_count": 179,
   "metadata": {},
   "outputs": [
    {
     "name": "stdout",
     "output_type": "stream",
     "text": [
      " * Serving Flask app '__main__'\n",
      " * Debug mode: off\n"
     ]
    },
    {
     "name": "stderr",
     "output_type": "stream",
     "text": [
      "\u001b[31m\u001b[1mWARNING: This is a development server. Do not use it in a production deployment. Use a production WSGI server instead.\u001b[0m\n",
      " * Running on all addresses (0.0.0.0)\n",
      " * Running on http://127.0.0.1:81\n",
      " * Running on http://192.168.0.101:81\n",
      "\u001b[33mPress CTRL+C to quit\u001b[0m\n",
      "127.0.0.1 - - [21/Mar/2024 14:44:37] \"POST / HTTP/1.1\" 200 -\n"
     ]
    },
    {
     "name": "stdout",
     "output_type": "stream",
     "text": [
      "Found object\n"
     ]
    },
    {
     "name": "stderr",
     "output_type": "stream",
     "text": [
      "127.0.0.1 - - [21/Mar/2024 14:46:26] \"POST / HTTP/1.1\" 200 -\n"
     ]
    },
    {
     "name": "stdout",
     "output_type": "stream",
     "text": [
      "Found object\n"
     ]
    }
   ],
   "source": [
    "# from flask import Flask, request, jsonify\n",
    "\n",
    "# app = Flask(__name__)\n",
    "\n",
    "# response_text = ''\n",
    "\n",
    "# @app.route('/', methods=['GET', 'POST'])\n",
    "# def index():\n",
    "#     global response_text\n",
    "\n",
    "#     if request.method == 'POST':\n",
    "#         input_text = request.form['input_text']\n",
    "#         inputAfterSimilaritySearch = db2.similarity_search(query=input_text, k=2)\n",
    "#         output_text = qa_chain({\"input_documents\": inputAfterSimilaritySearch[0].page_content, \"query\": input_text})\n",
    "#         seekTime = getStartTimeFromSegments(inputAfterSimilaritySearch[0].page_content)\n",
    "#         response_data = {\n",
    "#             'result': output_text['result'],\n",
    "#             'source': inputAfterSimilaritySearch[0].page_content,\n",
    "#             'seekTime': seekTime\n",
    "#         }\n",
    "#         return jsonify(response_data)\n",
    "\n",
    "# if __name__ == '__main__':\n",
    "#     app.run(host=\"0.0.0.0\", port=81)"
   ]
  },
  {
   "cell_type": "code",
   "execution_count": null,
   "metadata": {},
   "outputs": [],
   "source": []
  }
 ],
 "metadata": {
  "kernelspec": {
   "display_name": "Python 3",
   "language": "python",
   "name": "python3"
  },
  "language_info": {
   "codemirror_mode": {
    "name": "ipython",
    "version": 3
   },
   "file_extension": ".py",
   "mimetype": "text/x-python",
   "name": "python",
   "nbconvert_exporter": "python",
   "pygments_lexer": "ipython3",
   "version": "3.9.6"
  }
 },
 "nbformat": 4,
 "nbformat_minor": 2
}
